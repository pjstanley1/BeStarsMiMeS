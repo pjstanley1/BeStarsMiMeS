{
  "nbformat": 4,
  "nbformat_minor": 0,
  "metadata": {
    "colab": {
      "name": "01-Loop over individual models.ipynb",
      "provenance": [],
      "collapsed_sections": [
        "gb6qqojjLVAf",
        "t1w1r6zAK4Hb",
        "Tozzo3VyK-AH",
        "tTKjdFSSezgJ",
        "tMXY1C61sPKy",
        "3AwQmklG6TKg",
        "McIvwM3cQ8EB",
        "6TnN1Lj-W9Mh",
        "-p2Zu93bmUHY"
      ],
      "include_colab_link": true
    },
    "kernelspec": {
      "name": "python3",
      "display_name": "Python 3"
    },
    "language_info": {
      "name": "python"
    }
  },
  "cells": [
    {
      "cell_type": "markdown",
      "metadata": {
        "id": "view-in-github",
        "colab_type": "text"
      },
      "source": [
        "<a href=\"https://colab.research.google.com/github/veropetit/BeStarsMiMeS/blob/master/01-Loop_over_individual_models.ipynb\" target=\"_parent\"><img src=\"https://colab.research.google.com/assets/colab-badge.svg\" alt=\"Open In Colab\"/></a>"
      ]
    },
    {
      "cell_type": "markdown",
      "source": [
        "# Python calculation to be made for individual models"
      ],
      "metadata": {
        "id": "rDDLQJ7HKt4S"
      }
    },
    {
      "cell_type": "markdown",
      "source": [
        "## 0. Packages and data"
      ],
      "metadata": {
        "id": "gb6qqojjLVAf"
      }
    },
    {
      "cell_type": "code",
      "source": [
        "cd /content"
      ],
      "metadata": {
        "colab": {
          "base_uri": "https://localhost:8080/"
        },
        "id": "FUtJ9cc12MKL",
        "outputId": "a2f95a5b-895a-4972-d8ec-8e4bb1b78bb2"
      },
      "execution_count": null,
      "outputs": [
        {
          "output_type": "stream",
          "name": "stdout",
          "text": [
            "/content\n"
          ]
        }
      ]
    },
    {
      "cell_type": "code",
      "source": [
        "!git clone https://github.com/folsomcp/specpolFlow"
      ],
      "metadata": {
        "colab": {
          "base_uri": "https://localhost:8080/"
        },
        "id": "2jqc0WoGLatH",
        "outputId": "3f2142f4-c192-4ad1-c722-b1f3aec41adc"
      },
      "execution_count": null,
      "outputs": [
        {
          "output_type": "stream",
          "name": "stdout",
          "text": [
            "fatal: destination path 'specpolFlow' already exists and is not an empty directory.\n"
          ]
        }
      ]
    },
    {
      "cell_type": "code",
      "source": [
        "import specpolFlow as pol\n",
        "import numpy as np"
      ],
      "metadata": {
        "colab": {
          "base_uri": "https://localhost:8080/"
        },
        "id": "Ob-aghRQLiwJ",
        "outputId": "40a3779d-dfe5-4a9f-81f8-31dd4cf0d0f7"
      },
      "execution_count": null,
      "outputs": [
        {
          "output_type": "stream",
          "name": "stdout",
          "text": [
            "loading specpolFlow package\n",
            "importing specpolFlow.iolsd\n"
          ]
        }
      ]
    },
    {
      "cell_type": "code",
      "source": [
        "from google.colab import drive\n",
        "drive.mount('/content/drive')"
      ],
      "metadata": {
        "id": "FzwLzvUwLuxi",
        "colab": {
          "base_uri": "https://localhost:8080/"
        },
        "outputId": "9bfde533-9435-43c0-f649-b34be636f3fa"
      },
      "execution_count": null,
      "outputs": [
        {
          "output_type": "stream",
          "name": "stdout",
          "text": [
            "Drive already mounted at /content/drive; to attempt to forcibly remount, call drive.mount(\"/content/drive\", force_remount=True).\n"
          ]
        }
      ]
    },
    {
      "cell_type": "code",
      "source": [
        "cd /content/drive/Shareddrives/BeStarsMiMeS/"
      ],
      "metadata": {
        "id": "yeW2te_eMLGb",
        "colab": {
          "base_uri": "https://localhost:8080/"
        },
        "outputId": "e31b060c-06e5-459d-ec9e-5c18667c868a"
      },
      "execution_count": null,
      "outputs": [
        {
          "output_type": "stream",
          "name": "stdout",
          "text": [
            "/content/drive/Shareddrives/BeStarsMiMeS\n"
          ]
        }
      ]
    },
    {
      "cell_type": "markdown",
      "source": [
        "## 1. Creating LSD line masks"
      ],
      "metadata": {
        "id": "t1w1r6zAK4Hb"
      }
    },
    {
      "cell_type": "markdown",
      "source": [
        "### 1.1 Demo with a single model"
      ],
      "metadata": {
        "id": "Tozzo3VyK-AH"
      }
    },
    {
      "cell_type": "code",
      "source": [
        "ModelCode = 'T15000G40'\n",
        "# careful -- check whether it is g or G in the spreadsheet...\n",
        "\n",
        "# Note: It is 'g' in the spreadsheet"
      ],
      "metadata": {
        "id": "pyIJS0a_K1rL"
      },
      "execution_count": null,
      "outputs": []
    },
    {
      "cell_type": "code",
      "source": [
        "# We use a VALD long format line list to generate a LSD mask file. \n",
        "\n",
        "filename = 'VALD-LongList/LongList_{}.dat'.format(ModelCode)\n",
        "output = 'Masks/Test/{}_depth0.1.mask'.format(ModelCode)\n",
        "\n",
        "# atomsOnly=True excludes H lines. \n",
        "# saves the mask in the output file specified\n",
        "mask = pol.makeMask.make_mask(filename, output, depthCutoff=0.1, atomsOnly=True)\n"
      ],
      "metadata": {
        "colab": {
          "base_uri": "https://localhost:8080/"
        },
        "id": "f4ihCAKnLLb-",
        "outputId": "5323f6de-6219-4b41-f2fe-bbeb6141dec7"
      },
      "execution_count": null,
      "outputs": [
        {
          "output_type": "stream",
          "name": "stdout",
          "text": [
            "skipped all lines for species:\n",
            "['H 1']\n"
          ]
        }
      ]
    },
    {
      "cell_type": "code",
      "source": [
        "output"
      ],
      "metadata": {
        "colab": {
          "base_uri": "https://localhost:8080/",
          "height": 35
        },
        "id": "egXoV8hjiRPR",
        "outputId": "0665ef56-d23f-4b29-e3e5-11164be38163"
      },
      "execution_count": null,
      "outputs": [
        {
          "output_type": "execute_result",
          "data": {
            "text/plain": [
              "'Masks/Test/T15000G40_depth0.1.mask'"
            ],
            "application/vnd.google.colaboratory.intrinsic+json": {
              "type": "string"
            }
          },
          "metadata": {},
          "execution_count": 37
        }
      ]
    },
    {
      "cell_type": "markdown",
      "source": [
        "### 1.2 Loop over all models\n",
        "\n",
        "**TODO**: In the 00-information Google spreadsheet, there is a sheet called \"List of models\". Write a cell of code that will:\n",
        "1. Get Panda to retrieve that information\n",
        "2. Make a loop over all the model codes in that spreadsheet and use the make_mask function. "
      ],
      "metadata": {
        "id": "tTKjdFSSezgJ"
      }
    },
    {
      "cell_type": "code",
      "source": [
        "from google.colab import auth\n",
        "auth.authenticate_user()\n",
        "\n",
        "import gspread\n",
        "from google.auth import default\n",
        "creds, _ = default()\n",
        "\n",
        "import pandas as pd\n",
        "\n",
        "gc = gspread.authorize(creds)\n",
        "\n",
        "# Using pandas to read spreadsheet\n",
        "spreadsheet = gc.open_by_url('https://docs.google.com/spreadsheets/d/1M6y1Wnsrc-w5FjUMfKaSFa_-foIDAaMe8W4lYNWnWyk/edit?usp=sharing')\n",
        "wsheet = spreadsheet.worksheet(\"ListOfModels\")\n",
        "\n",
        "lom = pd.DataFrame(wsheet.get_all_records())\n",
        "\n",
        "for mc in lom[\"Model Code\"]: \n",
        "  model_code = mc.upper()   #Since the lowercase g must be uppercase to match the file name\n",
        "  file_name = 'VALD-LongList/LongList_{}.dat'.format(model_code)\n",
        "  file_output = 'Masks/{}_depth0.1.mask'.format(model_code)\n",
        "  mask_file = pol.makeMask.make_mask(file_name, file_output, depthCutoff=0.1, atomsOnly=True)\n"
      ],
      "metadata": {
        "id": "cpG6j-ePb1Nc",
        "colab": {
          "base_uri": "https://localhost:8080/"
        },
        "outputId": "94584132-9aae-4129-c134-8bd426f343ea"
      },
      "execution_count": null,
      "outputs": [
        {
          "output_type": "stream",
          "name": "stdout",
          "text": [
            "skipped all lines for species:\n",
            "['H 1']\n",
            "skipped all lines for species:\n",
            "['H 1']\n",
            "skipped all lines for species:\n",
            "['H 1']\n",
            "skipped all lines for species:\n",
            "['H 1']\n",
            "skipped all lines for species:\n",
            "['H 1']\n",
            "skipped all lines for species:\n",
            "['H 1']\n",
            "skipped all lines for species:\n",
            "['H 1']\n",
            "skipped all lines for species:\n",
            "['H 1']\n",
            "skipped all lines for species:\n",
            "['H 1']\n",
            "skipped all lines for species:\n",
            "['H 1']\n",
            "skipped all lines for species:\n",
            "['H 1']\n",
            "skipped all lines for species:\n",
            "['H 1']\n",
            "skipped all lines for species:\n",
            "['H 1']\n",
            "skipped all lines for species:\n",
            "['H 1']\n",
            "skipped all lines for species:\n",
            "['H 1']\n",
            "skipped all lines for species:\n",
            "['H 1']\n",
            "missing Lande factors for 2 lines (skipped) from:\n",
            "['O 2']\n",
            "skipped all lines for species:\n",
            "['H 1']\n",
            "missing Lande factors for 15 lines (skipped) from:\n",
            "['O 2']\n",
            "skipped all lines for species:\n",
            "['H 1']\n",
            "missing Lande factors for 8 lines (skipped) from:\n",
            "['O 2']\n",
            "skipped all lines for species:\n",
            "['H 1']\n",
            "missing Lande factors for 27 lines (skipped) from:\n",
            "['O 2']\n",
            "skipped all lines for species:\n",
            "['H 1']\n",
            "missing Lande factors for 13 lines (skipped) from:\n",
            "['O 2']\n",
            "skipped all lines for species:\n",
            "['H 1']\n",
            "missing Lande factors for 44 lines (skipped) from:\n",
            "['O 2']\n",
            "skipped all lines for species:\n",
            "['H 1']\n",
            "missing Lande factors for 23 lines (skipped) from:\n",
            "['O 2']\n",
            "skipped all lines for species:\n",
            "['H 1']\n",
            "missing Lande factors for 56 lines (skipped) from:\n",
            "['O 2']\n",
            "skipped all lines for species:\n",
            "['H 1']\n",
            "missing Lande factors for 40 lines (skipped) from:\n",
            "['O 2']\n",
            "skipped all lines for species:\n",
            "['H 1']\n",
            "missing Lande factors for 62 lines (skipped) from:\n",
            "['O 2']\n",
            "skipped all lines for species:\n",
            "['H 1']\n",
            "missing Lande factors for 53 lines (skipped) from:\n",
            "['O 2']\n",
            "skipped all lines for species:\n",
            "['H 1']\n",
            "missing Lande factors for 67 lines (skipped) from:\n",
            "['O 2', 'He 2']\n",
            "skipped all lines for species:\n",
            "['H 1']\n",
            "missing Lande factors for 58 lines (skipped) from:\n",
            "['O 2']\n",
            "skipped all lines for species:\n",
            "['H 1']\n",
            "missing Lande factors for 66 lines (skipped) from:\n",
            "['O 2', 'He 2']\n",
            "skipped all lines for species:\n",
            "['H 1']\n",
            "missing Lande factors for 64 lines (skipped) from:\n",
            "['O 2', 'He 2']\n",
            "skipped all lines for species:\n",
            "['H 1']\n",
            "missing Lande factors for 61 lines (skipped) from:\n",
            "['O 2', 'He 2']\n",
            "skipped all lines for species:\n",
            "['H 1']\n",
            "missing Lande factors for 65 lines (skipped) from:\n",
            "['O 2', 'He 2']\n",
            "skipped all lines for species:\n",
            "['H 1']\n"
          ]
        }
      ]
    },
    {
      "cell_type": "markdown",
      "source": [
        "## 2. Remove lines in the mask that are in regions of heavy telluric contamination"
      ],
      "metadata": {
        "id": "tMXY1C61sPKy"
      }
    },
    {
      "cell_type": "markdown",
      "source": [
        "### Based on the _04-Telluric contamination_ notebook:\n",
        "\n",
        "In the _04-Telluric contamination_ notebook, a code was written to use only spectral lines which are not in the contaminated regions of the spectrum. These regions were identified visually and put in the spreadsheet _04-ContaminationregionsWL_. \n",
        "\n",
        "In this notebook we create a loop over all the individual models, with different mask values to 'clean' them.\n"
      ],
      "metadata": {
        "id": "3AwQmklG6TKg"
      }
    },
    {
      "cell_type": "markdown",
      "source": [
        "The two next code blocks just makes sure we are located correctly and authenticates the user. However we change the directory to the _/Masks_ folder. "
      ],
      "metadata": {
        "id": "Ye1LUyE87fEg"
      }
    },
    {
      "cell_type": "code",
      "source": [
        "from google.colab import drive\n",
        "drive.mount('/content/drive')\n",
        "\n",
        "from google.colab import auth\n",
        "auth.authenticate_user()\n",
        "\n",
        "import gspread\n",
        "from google.auth import default\n",
        "creds, _ = default()\n",
        "\n",
        "gc = gspread.authorize(creds)\n"
      ],
      "metadata": {
        "colab": {
          "base_uri": "https://localhost:8080/"
        },
        "id": "EDnJ3_SRu6ar",
        "outputId": "89423255-6dc1-46f8-b7b9-d62fe7246065"
      },
      "execution_count": null,
      "outputs": [
        {
          "output_type": "stream",
          "name": "stdout",
          "text": [
            "Drive already mounted at /content/drive; to attempt to forcibly remount, call drive.mount(\"/content/drive\", force_remount=True).\n"
          ]
        }
      ]
    },
    {
      "cell_type": "code",
      "source": [
        "cd /content/drive/Shareddrives/BeStarsMiMeS/Masks/"
      ],
      "metadata": {
        "id": "IzY8mS8cyhc1",
        "outputId": "f289ce5d-f62c-4372-bd4f-5736090d8410",
        "colab": {
          "base_uri": "https://localhost:8080/"
        }
      },
      "execution_count": null,
      "outputs": [
        {
          "output_type": "stream",
          "name": "stdout",
          "text": [
            "/content/drive/Shareddrives/BeStarsMiMeS/Masks\n"
          ]
        }
      ]
    },
    {
      "cell_type": "markdown",
      "source": [
        "The next line creates a new folder called __depth0.1_tellClean__, where the new masks will be stored. "
      ],
      "metadata": {
        "id": "azX-_oi778TB"
      }
    },
    {
      "cell_type": "code",
      "source": [
        "!mkdir depth0.1_tellClean"
      ],
      "metadata": {
        "id": "tdORAzQK3ZU_"
      },
      "execution_count": null,
      "outputs": []
    },
    {
      "cell_type": "markdown",
      "source": [
        "The next code block gathers information from the _00InputInformation_ and _04-ContaminationregionsWL_ spreadsheets using pandas. "
      ],
      "metadata": {
        "id": "M0AClgAf8evp"
      }
    },
    {
      "cell_type": "code",
      "source": [
        "import pandas as pd\n",
        "\n",
        "# Using pandas to read spreadsheet\n",
        "spreadsheet = gc.open_by_url('https://docs.google.com/spreadsheets/d/1M6y1Wnsrc-w5FjUMfKaSFa_-foIDAaMe8W4lYNWnWyk/edit?usp=sharing')\n",
        "wsheet = spreadsheet.worksheet(\"ListOfModels\")\n",
        "\n",
        "lom = pd.DataFrame(wsheet.get_all_records())\n",
        "\n",
        "#Regions\n",
        "spreadsheet = gc.open_by_url('https://docs.google.com/spreadsheets/d/19lS0Xg-2ZUs0ps8jZ-JM3pR1YIuC_lWvRMpFAM5VUYI/edit?usp=sharing')\n",
        "\n",
        "# Get the name of all of the sheets in the spreadsheet file\n",
        "print(spreadsheet.worksheets())\n",
        "\n",
        "# Select the sheet that we want\n",
        "worksheet = spreadsheet.worksheet(\"WLRegions\")\n",
        "\n",
        "# get_all_values gives a list of rows.\n",
        "rows = worksheet.get_all_records()\n",
        "print(rows[0:2])\n",
        "\n",
        "# Put the sheet containing the target information into a \n",
        "\n",
        "WLRegions = pd.DataFrame.from_records(rows)\n"
      ],
      "metadata": {
        "id": "qeDpEuBFsXaO",
        "colab": {
          "base_uri": "https://localhost:8080/"
        },
        "outputId": "95f7645b-1660-42e0-86f5-e9fed30ec2c8"
      },
      "execution_count": null,
      "outputs": [
        {
          "output_type": "stream",
          "name": "stdout",
          "text": [
            "[<Worksheet 'WLRegions' id:0>]\n",
            "[{'WLStart': 587.5, 'WLFinish': 590}, {'WLStart': 591.5, 'WLFinish': 595}]\n"
          ]
        }
      ]
    },
    {
      "cell_type": "markdown",
      "source": [
        "This last code block uses the code from _04-Telluric contamination_ notebook, but loops for all model masks and finally saves the masks with the same name, but located in a the new folder that was created previously. "
      ],
      "metadata": {
        "id": "Ott0rf2O8z18"
      }
    },
    {
      "cell_type": "code",
      "source": [
        "#Place the regions into a matrix\n",
        "\n",
        "L = np.shape(WLRegions.loc[:,'WLStart'])[0]\n",
        "\n",
        "regions = np.zeros((L,2))\n",
        "\n",
        "regions[:,0] = WLRegions.loc[:,'WLStart']\n",
        "regions[:,1] = WLRegions.loc[:,'WLFinish']\n",
        "\n",
        "#Getting masks\n",
        "for mc in (lom[\"Model Code\"]): \n",
        "  model_code = mc.upper()\n",
        "  name = '{}_depth0.1.mask'.format(model_code)\n",
        "  mask_i = pol.iolsd.mask(fname=name)\n",
        "\n",
        "  #Identifying if a line is inside or outside the regions\n",
        "  dcard = []\n",
        "  for lines in mask_i.wl:\n",
        "    for i in range(0,np.size(regions[:,0])):\n",
        "      if regions[i,0] < lines < regions[i,1]:\n",
        "        dcard.append(lines)\n",
        "\n",
        "  #Creating a list with the mask.wl elements\n",
        "  mask_list = mask_i.wl.tolist()\n",
        "\n",
        "  for line in dcard:\n",
        "    index = (mask_list).index(line)\n",
        "    mask_i.iuse[index]=0\n",
        "\n",
        "  l = np.size(mask_i.wl)\n",
        "  spec_lines = []\n",
        "  for i in range(0,l):\n",
        "    if mask_i.iuse[i]==1:\n",
        "      spec_lines.append(mask_i.wl[i])\n",
        "  mask_i.save('depth0.1_tellClean/{}_depth0.1.mask'.format(model_code))"
      ],
      "metadata": {
        "id": "mvAKQAJW8b1g"
      },
      "execution_count": null,
      "outputs": []
    },
    {
      "cell_type": "markdown",
      "source": [
        "## 3. Calculating model spectrum for each ModelCode\n"
      ],
      "metadata": {
        "id": "McIvwM3cQ8EB"
      }
    },
    {
      "cell_type": "markdown",
      "source": [
        "### Packages"
      ],
      "metadata": {
        "id": "6TnN1Lj-W9Mh"
      }
    },
    {
      "cell_type": "code",
      "source": [
        "cd /content"
      ],
      "metadata": {
        "colab": {
          "base_uri": "https://localhost:8080/"
        },
        "id": "AB-528jjRFRP",
        "outputId": "f9aa4271-3d5d-44c9-9d4f-ed9c8860ec3f"
      },
      "execution_count": null,
      "outputs": [
        {
          "output_type": "stream",
          "name": "stdout",
          "text": [
            "/content\n"
          ]
        }
      ]
    },
    {
      "cell_type": "code",
      "source": [
        "!git clone https://github.com/folsomcp/specpolFlow"
      ],
      "metadata": {
        "colab": {
          "base_uri": "https://localhost:8080/"
        },
        "id": "6fNfXDeJXFwK",
        "outputId": "6fbc00ca-c643-445d-d33a-135b0498fefe"
      },
      "execution_count": null,
      "outputs": [
        {
          "output_type": "stream",
          "name": "stdout",
          "text": [
            "Cloning into 'specpolFlow'...\n",
            "remote: Enumerating objects: 323, done.\u001b[K\n",
            "remote: Counting objects: 100% (323/323), done.\u001b[K\n",
            "remote: Compressing objects: 100% (229/229), done.\u001b[K\n",
            "remote: Total 323 (delta 136), reused 259 (delta 85), pack-reused 0\u001b[K\n",
            "Receiving objects: 100% (323/323), 6.20 MiB | 17.15 MiB/s, done.\n",
            "Resolving deltas: 100% (136/136), done.\n"
          ]
        }
      ]
    },
    {
      "cell_type": "code",
      "source": [
        "import specpolFlow as pol\n",
        "import numpy as np\n",
        "import matplotlib.pyplot as plt\n",
        "import astropy.units as u\n",
        "import astropy.constants as const\n",
        "import os\n",
        "import copy\n",
        "import itertools"
      ],
      "metadata": {
        "colab": {
          "base_uri": "https://localhost:8080/"
        },
        "id": "pfXGwD1OXJX2",
        "outputId": "ad7d191a-5335-4c57-82cd-11b83040bb23"
      },
      "execution_count": null,
      "outputs": [
        {
          "output_type": "stream",
          "name": "stdout",
          "text": [
            "loading specpolFlow package\n",
            "importing specpolFlow.iolsd\n"
          ]
        }
      ]
    },
    {
      "cell_type": "code",
      "source": [
        "from google.colab import drive\n",
        "drive.mount('/content/drive')"
      ],
      "metadata": {
        "colab": {
          "base_uri": "https://localhost:8080/"
        },
        "id": "l1-Nv8-yXKZQ",
        "outputId": "4dccaa05-129b-41d5-a988-75d9bbd59605"
      },
      "execution_count": null,
      "outputs": [
        {
          "output_type": "stream",
          "name": "stdout",
          "text": [
            "Mounted at /content/drive\n"
          ]
        }
      ]
    },
    {
      "cell_type": "code",
      "source": [
        "# Need to change the permissions on the executable\n",
        "# So that it will run.\n",
        "! chmod 755 /content/drive/Shareddrives/BeStarsMiMeS/Synth-codes/s3div.Linux"
      ],
      "metadata": {
        "id": "7-P-fj66XNp8"
      },
      "execution_count": null,
      "outputs": []
    },
    {
      "cell_type": "code",
      "source": [
        "cd /content/drive/Shareddrives/BeStarsMiMeS/"
      ],
      "metadata": {
        "colab": {
          "base_uri": "https://localhost:8080/"
        },
        "id": "rk_I8-4zXVyu",
        "outputId": "e6662487-05d2-4721-ebd9-6a5e392ab874"
      },
      "execution_count": null,
      "outputs": [
        {
          "output_type": "stream",
          "name": "stdout",
          "text": [
            "/content/drive/Shareddrives/BeStarsMiMeS\n"
          ]
        }
      ]
    },
    {
      "cell_type": "code",
      "source": [
        "from google.colab import auth\n",
        "auth.authenticate_user()\n",
        "\n",
        "import gspread\n",
        "from google.auth import default\n",
        "creds, _ = default()\n",
        "from matplotlib.backends.backend_pdf import PdfPages\n",
        "\n",
        "import pandas as pd\n",
        "\n",
        "gc = gspread.authorize(creds)"
      ],
      "metadata": {
        "id": "FqWeDciqXYsm"
      },
      "execution_count": null,
      "outputs": []
    },
    {
      "cell_type": "code",
      "source": [
        "spreadsheet = gc.open_by_url('https://docs.google.com/spreadsheets/d/1M6y1Wnsrc-w5FjUMfKaSFa_-foIDAaMe8W4lYNWnWyk/edit?usp=sharing')\n",
        "\n",
        "worksheet = spreadsheet.worksheet(\"Stars\")\n",
        "rows  = worksheet.get_all_records()\n",
        "\n",
        "StarData = pd.DataFrame.from_records(rows)  \n",
        "\n",
        "worksheet = spreadsheet.worksheet(\"Observations\")\n",
        "rows  = worksheet.get_all_records()\n",
        "\n",
        "Observations = pd.DataFrame.from_records(rows)"
      ],
      "metadata": {
        "id": "LJc-wSZ2XcQS"
      },
      "execution_count": null,
      "outputs": []
    },
    {
      "cell_type": "markdown",
      "source": [
        "### Calculations"
      ],
      "metadata": {
        "id": "tWeewqYvXiEs"
      }
    },
    {
      "cell_type": "code",
      "source": [
        "#Star Data is the Stars worksheet\n",
        "\n",
        "for i in StarData[\"ModelCode\"]:\n",
        "  model_code = i.upper()\n",
        "  adopt_vsini = 50\n",
        "  vmac = 2.0\n",
        "  res = 65000\n",
        "\n",
        "  file_mout = '/content/drive/Shareddrives/BeStarsMiMeS/Synth-local-spectra/{}.mout'.format(model_code)\n",
        "  file_int  = '/content/drive/Shareddrives/BeStarsMiMeS/ModelSpectrumvsini50/{}.dsk'.format(model_code)\n",
        "\n",
        "  command = '/content/drive/Shareddrives/BeStarsMiMeS/Synth-codes/s3div.Linux {} {} {} {} 167000 {}'.format(file_mout, file_int, adopt_vsini, vmac, res)\n",
        "  print(command)\n",
        "  stream = os.popen(command)\n",
        "  output = stream.readlines()\n",
        "  \n",
        "  print(output)\n",
        "\n",
        "##~24min"
      ],
      "metadata": {
        "id": "9jABCvtYXmPC"
      },
      "execution_count": null,
      "outputs": []
    },
    {
      "cell_type": "markdown",
      "source": [
        "## 4. How does the CII line that we used to check vsini depends on Teff and log(g)?"
      ],
      "metadata": {
        "id": "-p2Zu93bmUHY"
      }
    },
    {
      "cell_type": "code",
      "source": [
        "def read_disk(file):\n",
        "  '''\n",
        "  Read a synthetic spectrum from a s3div output\n",
        "\n",
        "  :param file: The filename\n",
        "  :rtype: wave, flux -- the wavelength in nm, and the normalized flux. \n",
        "  '''\n",
        "  with open(file) as f:\n",
        "    lines = f.readlines()\n",
        "  # number of atomic lines in the header of the file\n",
        "  natomic = int(lines[0].split(sep='-')[0])\n",
        "  nwave=int(lines[natomic+1].split()[0])\n",
        "  data = np.genfromtxt(lines[natomic+2:natomic+1+nwave])\n",
        "  return(data[:,0]/10.0, data[:,1])\n",
        "\n",
        "\n",
        "def split_order(data):\n",
        "  '''\n",
        "  Split an observation object into a list of observation objects with one order per item\n",
        "  '''\n",
        "  # one order is where the wavelength backtracks. \n",
        "  ind = np.where((data.wl[1:]-data.wl[0:-1]) < 0)[0]\n",
        "  norder = ind.size+1\n",
        "  ind = np.append(-1,ind)\n",
        "  ind = np.append(ind,data.wl.size)\n",
        "  print('{} orders'.format(norder))\n",
        "\n",
        "  list_order=[]\n",
        "  for i in range(0,norder):\n",
        "    list_order.append(data[ind[i]+1:ind[i+1]])\n",
        " \n",
        "  return(list_order)\n",
        "  \n",
        "def splice_order(list_order):\n",
        "  '''\n",
        "  Concatenate a list of observation objects (usually split into a list of orders by split_order function). Note: it does not merge the orders overlaps.\n",
        "  '''\n",
        "  wl = np.array([])\n",
        "  specI = np.array([])\n",
        "  specV = np.array([])\n",
        "  specN1 = np.array([])\n",
        "  specN2 = np.array([])\n",
        "  specSig = np.array([])\n",
        "  for item in list_order:\n",
        "    wl=np.append(wl,item.wl)\n",
        "    specI=np.append(specI,item.specI)\n",
        "    specV=np.append(specV,item.specV)\n",
        "    specN1=np.append(specN1,item.specN1)\n",
        "    specN2=np.append(specN2,item.specN2)\n",
        "    specSig=np.append(specSig, item.specSig)\n",
        "  return(pol.iolsd.observation(wl, specI, specV, specN1, specN2, specSig, header=list_order[0].header))\n",
        "\n",
        "def rshift(wave, radvel):\n",
        "  '''\n",
        "  Shift a spectrum in terms of radial velocity. The wavelength array and the velocity arrays must be defied as astropy units quantities.\n",
        "  The new wavelength array is returned in the same units as the initial wavelength array. \n",
        "  '''\n",
        "  return( (wave + wave*radvel/const.c).to(wave.unit).value )"
      ],
      "metadata": {
        "id": "1lbQHe9tZyMb"
      },
      "execution_count": null,
      "outputs": []
    },
    {
      "cell_type": "code",
      "source": [
        "!pwd"
      ],
      "metadata": {
        "colab": {
          "base_uri": "https://localhost:8080/"
        },
        "id": "B8RxGEA1jSKI",
        "outputId": "2f112275-2959-4646-c449-5e4815e094ad"
      },
      "execution_count": null,
      "outputs": [
        {
          "output_type": "stream",
          "name": "stdout",
          "text": [
            "/content/drive/Shareddrives/BeStarsMiMeS\n"
          ]
        }
      ]
    },
    {
      "cell_type": "code",
      "source": [
        "CII = 426.726 \n",
        "\n",
        "c=0\n",
        "for i in StarData[\"ModelCode\"]:\n",
        "  if c > 4:\n",
        "    break\n",
        "  c = c+1\n",
        "  modelcode = i.upper()  \n",
        "  file_mod = 'ModelSpectrumvsini50/{}.dsk'.format(modelcode)\n",
        "  mod_wave, mod_flux = read_disk(file_mod)\n",
        "\n",
        "  fig, ax = plt.subplots(1,1, figsize=(12,4))\n",
        "  ax.plot(mod_wave, mod_flux)\n",
        "  ax.axvline(x=CII, c='k', ls='--')\n",
        "  ax.set_xlim(420,430)\n",
        "  ax.set_ylim(0.5,1.1)\n",
        "  "
      ],
      "metadata": {
        "colab": {
          "base_uri": "https://localhost:8080/",
          "height": 1000
        },
        "id": "u3Lf5l66ivz8",
        "outputId": "ae637ced-734c-47f4-a286-e8aa8c5a038f"
      },
      "execution_count": null,
      "outputs": [
        {
          "output_type": "display_data",
          "data": {
            "text/plain": [
              "<Figure size 864x288 with 1 Axes>"
            ],
            "image/png": "[encoded data removed]"
          },
          "metadata": {
            "needs_background": "light"
          }
        },
        {
          "output_type": "display_data",
          "data": {
            "text/plain": [
              "<Figure size 864x288 with 1 Axes>"
            ],
            "image/png": "[encoded data removed]"
          },
          "metadata": {
            "needs_background": "light"
          }
        },
        {
          "output_type": "display_data",
          "data": {
            "text/plain": [
              "<Figure size 864x288 with 1 Axes>"
            ],
            "image/png": "[encoded data removed]"
          },
          "metadata": {
            "needs_background": "light"
          }
        },
        {
          "output_type": "display_data",
          "data": {
            "text/plain": [
              "<Figure size 864x288 with 1 Axes>"
            ],
            "image/png": "[encoded data removed]"
          },
          "metadata": {
            "needs_background": "light"
          }
        },
        {
          "output_type": "display_data",
          "data": {
            "text/plain": [
              "<Figure size 864x288 with 1 Axes>"
            ],
            "image/png": "[encoded data removed]"
          },
          "metadata": {
            "needs_background": "light"
          }
        }
      ]
    },
    {
      "cell_type": "code",
      "source": [
        "CII = 426.726 \n",
        "\n",
        "c=0\n",
        "\n",
        "depth = []\n",
        "\n",
        "T= []\n",
        "\n",
        "Lg = []\n",
        "\n",
        "for i in StarData[\"ModelCode\"]:\n",
        "  \n",
        "  c = c+1\n",
        "  modelcode = i.upper()  \n",
        "  file_mod = 'ModelSpectrumvsini50/{}.dsk'.format(modelcode)\n",
        "  mod_wave, mod_flux = read_disk(file_mod)\n",
        "\n",
        "\n",
        "  apr_index = np.where(np.round(mod_wave - CII,2)==0)[0][0]\n",
        "  \n",
        "\n",
        "\n",
        "  wl = mod_wave[apr_index - 20:apr_index + 20]\n",
        "  fl = mod_flux[apr_index - 20:apr_index + 20]\n",
        "\n",
        "  index = np.argmin(fl)\n",
        "  \n",
        "  d = 1 - fl[index]\n",
        "\n",
        "  depth.append(d)\n",
        "\n",
        "  t=int(modelcode[1:6])\n",
        "  T.append(t)\n",
        "\n",
        "  g = int(modelcode[-2:])\n",
        "  Lg.append(g)\n",
        "  \n",
        "\n"
      ],
      "metadata": {
        "id": "P5Kq6cExmLX2"
      },
      "execution_count": null,
      "outputs": []
    },
    {
      "cell_type": "code",
      "source": [
        "depth = np.array(depth)\n",
        "\n",
        "T= np.array(T)\n",
        "\n",
        "Lg = np.array(Lg)\n",
        "\n",
        "\n",
        "\n",
        "#print(T)\n",
        "#print(Lg)\n",
        "#print(depth)\n",
        "\n",
        "r = np.where(Lg == 30)[0]\n",
        "g = np.where(Lg == 35)[0]\n",
        "b = np.where(Lg == 40)[0]\n",
        "\n",
        "\n",
        "rT = []\n",
        "rdepth = []\n",
        "\n",
        "for i in r:\n",
        "  rT.append(T[i])\n",
        "  rdepth.append(depth[i])\n",
        "\n",
        "gT = []\n",
        "gdepth = []\n",
        "\n",
        "for i in g:\n",
        "  gT.append(T[i])\n",
        "  gdepth.append(depth[i])\n",
        "\n",
        "bT = []\n",
        "bdepth = []\n",
        "\n",
        "for i in b:\n",
        "  bT.append(T[i])\n",
        "  bdepth.append(depth[i])\n",
        "\n",
        "from matplotlib.backends.backend_pdf import PdfPages\n",
        "with PdfPages('CII_linedepth_vs_Temp.pdf') as pdf:\n",
        "\n",
        "  fig, ax = plt.subplots(1,1, figsize=(10,10))\n",
        "  ax.plot(rT, rdepth,'.r',label=r'$\\log(g)=3$')\n",
        "  ax.plot(gT, gdepth,'^g',label=r'$\\log(g)=3.5$')\n",
        "  ax.plot(bT, bdepth,'sb',label=r'$\\log(g)=4$')\n",
        "\n",
        "  fig.suptitle('CII spectral line depth in models with '+ r'$v \\sin{i}=50$' + ' against temperature.')\n",
        "  ax.set_xlabel('T')\n",
        "  ax.set_ylabel('D')\n",
        "  ax.legend()\n",
        "  ax.grid()\n",
        "\n",
        "  pdf.savefig(fig)\n"
      ],
      "metadata": {
        "colab": {
          "base_uri": "https://localhost:8080/",
          "height": 677
        },
        "id": "_-pORwbTtQjh",
        "outputId": "7dbcd339-451c-45ec-f77c-cdf1d7856c2a"
      },
      "execution_count": null,
      "outputs": [
        {
          "output_type": "display_data",
          "data": {
            "text/plain": [
              "<Figure size 720x720 with 1 Axes>"
            ],
            "image/png": "[encoded data removed]"
          },
          "metadata": {
            "needs_background": "light"
          }
        }
      ]
    },
    {
      "cell_type": "code",
      "source": [
        ""
      ],
      "metadata": {
        "id": "Hxc6bVAkGlhB"
      },
      "execution_count": null,
      "outputs": []
    }
  ]
}