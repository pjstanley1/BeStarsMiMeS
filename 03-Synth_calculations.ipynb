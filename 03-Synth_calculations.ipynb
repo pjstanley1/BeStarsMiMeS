{
  "nbformat": 4,
  "nbformat_minor": 0,
  "metadata": {
    "colab": {
      "name": "03-Synth-calculations",
      "provenance": [],
      "collapsed_sections": [
        "gb6qqojjLVAf"
      ],
      "include_colab_link": true
    },
    "kernelspec": {
      "name": "python3",
      "display_name": "Python 3"
    },
    "language_info": {
      "name": "python"
    }
  },
  "cells": [
    {
      "cell_type": "markdown",
      "metadata": {
        "id": "view-in-github",
        "colab_type": "text"
      },
      "source": [
        "<a href=\"https://colab.research.google.com/github/veropetit/BeStarsMiMeS/blob/master/03-Synth_calculations.ipynb\" target=\"_parent\"><img src=\"https://colab.research.google.com/assets/colab-badge.svg\" alt=\"Open In Colab\"/></a>"
      ]
    },
    {
      "cell_type": "markdown",
      "source": [
        "# Creating the synthetic spectra."
      ],
      "metadata": {
        "id": "rDDLQJ7HKt4S"
      }
    },
    {
      "cell_type": "markdown",
      "source": [
        "## 0 Packages and data"
      ],
      "metadata": {
        "id": "gb6qqojjLVAf"
      }
    },
    {
      "cell_type": "code",
      "source": [
        "cd /content"
      ],
      "metadata": {
        "colab": {
          "base_uri": "https://localhost:8080/"
        },
        "id": "0ITTMbsCn_bI",
        "outputId": "87f0da7f-b35c-4a7f-9c28-33c72d9800ee"
      },
      "execution_count": 36,
      "outputs": [
        {
          "output_type": "stream",
          "name": "stdout",
          "text": [
            "/content\n"
          ]
        }
      ]
    },
    {
      "cell_type": "code",
      "source": [
        "!git clone https://github.com/folsomcp/specpolFlow"
      ],
      "metadata": {
        "colab": {
          "base_uri": "https://localhost:8080/"
        },
        "id": "2jqc0WoGLatH",
        "outputId": "9b696446-eb65-4020-de9e-610dca27283b"
      },
      "execution_count": 16,
      "outputs": [
        {
          "output_type": "stream",
          "name": "stdout",
          "text": [
            "fatal: destination path 'specpolFlow' already exists and is not an empty directory.\n"
          ]
        }
      ]
    },
    {
      "cell_type": "code",
      "source": [
        "import specpolFlow as pol\n",
        "import numpy as np\n",
        "import matplotlib.pyplot as plt\n",
        "import astropy.units as u\n",
        "import astropy.constants as const\n",
        "import os\n",
        "import copy"
      ],
      "metadata": {
        "id": "Ob-aghRQLiwJ"
      },
      "execution_count": 17,
      "outputs": []
    },
    {
      "cell_type": "code",
      "source": [
        "from google.colab import drive\n",
        "drive.mount('/content/drive')"
      ],
      "metadata": {
        "colab": {
          "base_uri": "https://localhost:8080/"
        },
        "id": "FzwLzvUwLuxi",
        "outputId": "2bb03377-92db-452a-c108-9bb540de5323"
      },
      "execution_count": 18,
      "outputs": [
        {
          "output_type": "stream",
          "name": "stdout",
          "text": [
            "Drive already mounted at /content/drive; to attempt to forcibly remount, call drive.mount(\"/content/drive\", force_remount=True).\n"
          ]
        }
      ]
    },
    {
      "cell_type": "code",
      "source": [
        "cd /content/drive/Shareddrives/BeStarsMiMeS/"
      ],
      "metadata": {
        "colab": {
          "base_uri": "https://localhost:8080/"
        },
        "id": "yeW2te_eMLGb",
        "outputId": "2f8b86ab-6932-4757-fefd-9cf52e944b2b"
      },
      "execution_count": 19,
      "outputs": [
        {
          "output_type": "stream",
          "name": "stdout",
          "text": [
            "/content/drive/Shareddrives/BeStarsMiMeS\n"
          ]
        }
      ]
    },
    {
      "cell_type": "markdown",
      "source": [
        "## 1. Calculating the disk integrated, rotationally broadened spectra"
      ],
      "metadata": {
        "id": "t1w1r6zAK4Hb"
      }
    },
    {
      "cell_type": "markdown",
      "source": [
        "### 1.0 Setting up the location in the Shared Drive and permissions\n",
        "\n",
        "(This only need need to be done once)"
      ],
      "metadata": {
        "id": "2eNKEhWLZ4qt"
      }
    },
    {
      "cell_type": "markdown",
      "source": [
        "moving to the directory on the Shared Drive with the Synth executables"
      ],
      "metadata": {
        "id": "rVVaMfFdKelp"
      }
    },
    {
      "cell_type": "code",
      "source": [
        "cd /content/drive/Shareddrives/BeStarsMiMeS/Synth-codes"
      ],
      "metadata": {
        "colab": {
          "base_uri": "https://localhost:8080/"
        },
        "id": "FGtVf1hiJMmx",
        "outputId": "70f78e31-2224-4b20-96ac-8becd669d53b"
      },
      "execution_count": 37,
      "outputs": [
        {
          "output_type": "stream",
          "name": "stdout",
          "text": [
            "/content/drive/Shareddrives/BeStarsMiMeS/Synth-codes\n"
          ]
        }
      ]
    },
    {
      "cell_type": "code",
      "source": [
        "# double checking that I am at the right place.\n",
        "!pwd"
      ],
      "metadata": {
        "colab": {
          "base_uri": "https://localhost:8080/"
        },
        "id": "s_UfvH2ZGl7P",
        "outputId": "3a03d050-e97b-462c-e9e4-40624c6ec166"
      },
      "execution_count": 38,
      "outputs": [
        {
          "output_type": "stream",
          "name": "stdout",
          "text": [
            "/content/drive/Shareddrives/BeStarsMiMeS/Synth-codes\n"
          ]
        }
      ]
    },
    {
      "cell_type": "code",
      "source": [
        "# Need to change the permissions on the executable\n",
        "# So that it will run.\n",
        "! chmod 755 s3div.Linux"
      ],
      "metadata": {
        "id": "Rhl_6oBDFty8"
      },
      "execution_count": 39,
      "outputs": []
    },
    {
      "cell_type": "markdown",
      "source": [
        "### 1.1 Demo with a single observation\n",
        "\n",
        "A succesfull calculation should output:\n",
        "\n",
        "```\n",
        " Integration done\n",
        "```\n",
        "and create a new file in the `Synth-diskint-spectra` folder on the Shared Google Drive\n",
        "\n",
        "There might be this error as well\n",
        "```\n",
        "ERROR: ld.so: object '/usr/lib/x86_64-linux-gnu/libtcmalloc.so.4' from LD_PRELOAD cannot be preloaded (wrong ELF class: ELFCLASS64): ignored.\n",
        "```\n",
        "but it does not seem to affect the calculation."
      ],
      "metadata": {
        "id": "Tozzo3VyK-AH"
      }
    },
    {
      "cell_type": "code",
      "source": [
        "star = 'hd6226'\n",
        "ModelCode='T15000G40'\n",
        "vsini = 120.0\n",
        "vmac = 2.0\n",
        "res = 65000\n",
        "\n",
        "\n",
        "file_mout = '../Synth-local-spectra/{}.mout'.format(ModelCode)\n",
        "file_int  = '../Synth-diskint-spectra/{}.dsk'.format(star)\n",
        "\n",
        "command = './s3div.Linux {} {} {} {} 167000 {}'.format(file_mout, file_int, vsini, vmac, res)\n",
        "#print(command)\n",
        "stream = os.popen(command)\n",
        "output = stream.readlines()\n",
        "output\n"
      ],
      "metadata": {
        "id": "1pMSmCOvQiic",
        "colab": {
          "base_uri": "https://localhost:8080/"
        },
        "outputId": "42440b50-d5f1-4c83-ccf1-fafe9358af26"
      },
      "execution_count": 40,
      "outputs": [
        {
          "output_type": "execute_result",
          "data": {
            "text/plain": [
              "[' Integration done\\n']"
            ]
          },
          "metadata": {},
          "execution_count": 40
        }
      ]
    },
    {
      "cell_type": "markdown",
      "source": [
        "Going back to the main directory in the Shared Google Drive"
      ],
      "metadata": {
        "id": "s0N9U-29p5Dw"
      }
    },
    {
      "cell_type": "code",
      "source": [
        "cd /content/drive/Shareddrives/BeStarsMiMeS"
      ],
      "metadata": {
        "colab": {
          "base_uri": "https://localhost:8080/"
        },
        "id": "XBW3cUEgoPqr",
        "outputId": "3c09ab30-c39e-4389-9ffd-7a45280b847e"
      },
      "execution_count": 41,
      "outputs": [
        {
          "output_type": "stream",
          "name": "stdout",
          "text": [
            "/content/drive/Shareddrives/BeStarsMiMeS\n"
          ]
        }
      ]
    },
    {
      "cell_type": "markdown",
      "source": [
        "### 1.1 Demo with a single observation\n",
        "\n",
        "> **TODO**: make a loop that makes the calculation above for each star, using the information in the 00-Information spreadsheets. "
      ],
      "metadata": {
        "id": "IZeE5wNGg0Il"
      }
    },
    {
      "cell_type": "code",
      "source": [
        ""
      ],
      "metadata": {
        "id": "j0W35XXlgzUL"
      },
      "execution_count": null,
      "outputs": []
    },
    {
      "cell_type": "markdown",
      "source": [
        "## 2. Adding radial velocity shift and noise. "
      ],
      "metadata": {
        "id": "YRDd9Mk8lmoT"
      }
    },
    {
      "cell_type": "markdown",
      "source": [
        "Gregg originally had an IDL code to do this, using a list of SNR (from the headers of the observations?)\n",
        "\n",
        "But as we do have the original spectra handy, I propose a maybe simpler python procedure. \n",
        "\n",
        "1. Read in the original spectrum for an observation\n",
        "2. Read in the rotationally broadened model spectrum that has been convolved with the instrument resolution by `s3div` already. \n",
        "3. Shift the model by the appropriate radial velocity for that observation.\n",
        "4. Split the observation into its orders (so this is assuming that the spectrum's orders have not been merged. If using a code that merges the order, then there should be an option to do this procedure in one swoop, instead of order by order. For each order, do the folloowing:\n",
        "  - a. Interpolate the shifted model spectrum to the wavelength grid of the observed spectrum\n",
        "  - b. Add some random noise to the interpolated model, using the observed error column as the sigma of the normal distribution. \n",
        "  - c. Copy over all of the other columns from the data -- this way there is no need to stitch together the LSD profiles after the fact. \n",
        "5. Save the resulting spectrum in .s format. "
      ],
      "metadata": {
        "id": "e43xA8KJlsZ_"
      }
    },
    {
      "cell_type": "markdown",
      "source": [
        "Functions that will be used below (move this to a module on the github, maybe? split and splice could go into the iolsd.observation class, once there is a check added in case there are no spectral orders present -- i.e. for already mearged observations)"
      ],
      "metadata": {
        "id": "oXi8JPVKHma3"
      }
    },
    {
      "cell_type": "code",
      "source": [
        "def read_disk(file):\n",
        "  '''\n",
        "  Read a synthetic spectrum from a s3div output\n",
        "\n",
        "  :param file: The filename\n",
        "  :rtype: wave, flux -- the wavelength in nm, and the normalized flux. \n",
        "  '''\n",
        "  with open(file) as f:\n",
        "    lines = f.readlines()\n",
        "  # number of atomic lines in the header of the file\n",
        "  natomic = int(lines[0].split(sep='-')[0])\n",
        "  nwave=int(lines[natomic+1].split()[0])\n",
        "  data = np.genfromtxt(lines[natomic+2:natomic+1+nwave])\n",
        "  return(data[:,0]/10.0, data[:,1])\n",
        "\n",
        "def split_order(data):\n",
        "  '''\n",
        "  Split an observation object into a list of observation objects with one order per item\n",
        "  '''\n",
        "  # one order is where the wavelength backtracks. \n",
        "  ind = np.where((data.wl[1:]-data.wl[0:-1]) < 0)[0]\n",
        "  norder = ind.size+1\n",
        "  ind = np.append(-1,ind)\n",
        "  ind = np.append(ind,data.wl.size)\n",
        "  print('{} orders'.format(norder))\n",
        "\n",
        "  list_order=[]\n",
        "  for i in range(0,norder):\n",
        "    list_order.append(data[ind[i]+1:ind[i+1]])\n",
        " \n",
        "  return(list_order)\n",
        "  \n",
        "def splice_order(list_order):\n",
        "  '''\n",
        "  Concatenate a list of observation objects (usually split into a list of orders by split_order function). Note: it does not merge the orders overlaps.\n",
        "  '''\n",
        "  wl = np.array([])\n",
        "  specI = np.array([])\n",
        "  specV = np.array([])\n",
        "  specN1 = np.array([])\n",
        "  specN2 = np.array([])\n",
        "  specSig = np.array([])\n",
        "  for item in list_order:\n",
        "    wl=np.append(wl,item.wl)\n",
        "    specI=np.append(specI,item.specI)\n",
        "    specV=np.append(specV,item.specV)\n",
        "    specN1=np.append(specN1,item.specN1)\n",
        "    specN2=np.append(specN2,item.specN2)\n",
        "    specSig=np.append(specSig, item.specSig)\n",
        "  return(pol.iolsd.observation(wl, specI, specV, specN1, specN2, specSig, header=list_order[0].header))\n",
        "\n",
        "def rshift(wave, radvel):\n",
        "  '''\n",
        "  Shift a spectrum in terms of radial velocity. The wavelength array and the velocity arrays must be defied as astropy units quantities.\n",
        "  The new wavelength array is returned in the same units as the initial wavelength array. \n",
        "  '''\n",
        "  return( (wave + wave*radvel/const.c).to(wave.unit).value )\n"
      ],
      "metadata": {
        "id": "ANWa2iMMo14N"
      },
      "execution_count": 58,
      "outputs": []
    },
    {
      "cell_type": "markdown",
      "source": [
        "### 2.1 Demo with a single observation"
      ],
      "metadata": {
        "id": "zxfk4JzWHVbU"
      }
    },
    {
      "cell_type": "code",
      "source": [
        "# Making sure we are in the right directory\n",
        "! pwd"
      ],
      "metadata": {
        "colab": {
          "base_uri": "https://localhost:8080/"
        },
        "id": "AD7XZoI-pzhu",
        "outputId": "4b38720f-51b4-4af4-b44b-a823183d2158"
      },
      "execution_count": 59,
      "outputs": [
        {
          "output_type": "stream",
          "name": "stdout",
          "text": [
            "/content/drive/Shareddrives/BeStarsMiMeS\n"
          ]
        }
      ]
    },
    {
      "cell_type": "code",
      "source": [
        "star = 'hd6226'\n",
        "obs = '1'\n",
        "vradCorrected = -70.0"
      ],
      "metadata": {
        "id": "vrMiPjZdotpv"
      },
      "execution_count": 60,
      "outputs": []
    },
    {
      "cell_type": "markdown",
      "source": [
        "> **TODO** Need to check whether this will work with normalized HARPS spectra (seem to remember something funny in the sorting of the wavelength arrays...)\n",
        "(star #3 on the list has a HARPS spectrum, I think)"
      ],
      "metadata": {
        "id": "AODdlUuyMALN"
      }
    },
    {
      "cell_type": "code",
      "source": [
        "# reading the observed spectrum\n",
        "file_obs = 'NormalizedSpectra/{}_{}.s'.format(star, obs)\n",
        "data_obs = pol.iolsd.read_spectrum(file_obs)\n",
        "# splitting the observed spectrum by order\n",
        "list_order = split_order(data_obs)\n",
        "\n",
        "# reading the model spectrum\n",
        "file_mod = 'Synth-diskint-spectra/{}.dsk'.format(star)\n",
        "mod_wave, mod_flux = read_disk(file_mod)\n",
        "\n",
        "# shifting the model spectrum for its radial velocity\n",
        "# (note the rshift function asks for numpy unit quantities)\n",
        "mod_wave_shift = rshift(mod_wave*u.nm, vradCorrected*u.km/u.s)\n",
        "\n",
        "for order in list_order:\n",
        "\n",
        "  # interpolate the shifted model onto the order grid\n",
        "  mod_flux_interp = np.interp(order.wl, mod_wave_shift, mod_flux)\n",
        "\n",
        "  # drawing n random elements with a mean of zero and a stdev of 1.0\n",
        "  # scaling to a sigma corresponding to the error bar\n",
        "  noise = np.random.standard_normal(order.wl.size)*order.specSig\n",
        "  mod_flux_interp = mod_flux_interp + noise\n",
        "  # replacing the flux array in the order\n",
        "  order.specI = copy.deepcopy(mod_flux_interp)\n",
        "\n",
        "# putting the orders back together\n",
        "new = splice_order(list_order)\n",
        "\n",
        "### writting back the file in the proper folder. \n",
        "## need to look for a write function for .s, maybe in Colin's \n",
        "## normalization code?\n",
        "\n",
        "new.write_s('Synth-noisy-spectra/{}_{}_noise.s'.format(star,obs))"
      ],
      "metadata": {
        "colab": {
          "base_uri": "https://localhost:8080/"
        },
        "id": "YWt9wkHLJWuV",
        "outputId": "ad928ede-26d8-4268-9cdd-0e954a44e0da"
      },
      "execution_count": 61,
      "outputs": [
        {
          "output_type": "stream",
          "name": "stdout",
          "text": [
            "37 orders\n"
          ]
        }
      ]
    },
    {
      "cell_type": "markdown",
      "source": [
        "Quick graph to check the result -- the graph is not needed for the loop below. The comparison between model and data is done in the 02-NormalizedSpectra notebook. "
      ],
      "metadata": {
        "id": "zMqHkz6KNG6T"
      }
    },
    {
      "cell_type": "code",
      "source": [
        "fig, ax = plt.subplots(1,1, figsize=(12,4))\n",
        "ax.plot(data_obs.wl, data_obs.specI)\n",
        "ax.plot(mod_wave, mod_flux)\n",
        "ax.plot(new.wl, new.specI)\n",
        "ax.set_xlim(400,500)\n",
        "ax.set_ylim(0.5,1.1)"
      ],
      "metadata": {
        "colab": {
          "base_uri": "https://localhost:8080/",
          "height": 287
        },
        "id": "MAc8nIUez7cu",
        "outputId": "7aa11d50-5e5f-4702-f024-42ada5f6c7da"
      },
      "execution_count": 57,
      "outputs": [
        {
          "output_type": "execute_result",
          "data": {
            "text/plain": [
              "(0.5, 1.1)"
            ]
          },
          "metadata": {},
          "execution_count": 57
        },
        {
          "output_type": "display_data",
          "data": {
            "text/plain": [
              "<Figure size 864x288 with 1 Axes>"
            ],
            "image/png": "[encoded data removed]"
          },
          "metadata": {
            "needs_background": "light"
          }
        }
      ]
    },
    {
      "cell_type": "markdown",
      "source": [
        "### 2.2 Loop over all the observations\n",
        "\n",
        ">**TODO**: make a loop over all of the observations to make the calculations above for each observation, using the information from the tables in 00-Information Google spreadsheet."
      ],
      "metadata": {
        "id": "3SQRSaBqNVJs"
      }
    },
    {
      "cell_type": "code",
      "source": [
        ""
      ],
      "metadata": {
        "id": "4tEl5U9xHVnK"
      },
      "execution_count": 57,
      "outputs": []
    },
    {
      "cell_type": "code",
      "source": [
        ""
      ],
      "metadata": {
        "id": "v3NX65YkutlC"
      },
      "execution_count": null,
      "outputs": []
    }
  ]
}