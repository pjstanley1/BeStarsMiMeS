{
  "nbformat": 4,
  "nbformat_minor": 0,
  "metadata": {
    "colab": {
      "name": "01-Loop over individual models.ipynb",
      "provenance": [],
      "collapsed_sections": []
    },
    "kernelspec": {
      "name": "python3",
      "display_name": "Python 3"
    },
    "language_info": {
      "name": "python"
    }
  },
  "cells": [
    {
      "cell_type": "markdown",
      "source": [
        "# Python calculation to be made for individual models"
      ],
      "metadata": {
        "id": "rDDLQJ7HKt4S"
      }
    },
    {
      "cell_type": "markdown",
      "source": [
        "## 0 Packages and data"
      ],
      "metadata": {
        "id": "gb6qqojjLVAf"
      }
    },
    {
      "cell_type": "code",
      "source": [
        "!git clone https://github.com/folsomcp/specpolFlow"
      ],
      "metadata": {
        "colab": {
          "base_uri": "https://localhost:8080/"
        },
        "id": "2jqc0WoGLatH",
        "outputId": "44c21c3b-7d02-4c2a-fa11-4f315fe0dac7"
      },
      "execution_count": null,
      "outputs": [
        {
          "output_type": "stream",
          "name": "stdout",
          "text": [
            "Cloning into 'specpolFlow'...\n",
            "remote: Enumerating objects: 272, done.\u001b[K\n",
            "remote: Counting objects: 100% (272/272), done.\u001b[K\n",
            "remote: Compressing objects: 100% (194/194), done.\u001b[K\n",
            "remote: Total 272 (delta 102), reused 226 (delta 69), pack-reused 0\u001b[K\n",
            "Receiving objects: 100% (272/272), 6.19 MiB | 28.94 MiB/s, done.\n",
            "Resolving deltas: 100% (102/102), done.\n"
          ]
        }
      ]
    },
    {
      "cell_type": "code",
      "source": [
        "import specpolFlow as pol\n",
        "import numpy as np"
      ],
      "metadata": {
        "colab": {
          "base_uri": "https://localhost:8080/"
        },
        "id": "Ob-aghRQLiwJ",
        "outputId": "1543f2c4-9f5d-4df6-d8e3-d3ac2d070344"
      },
      "execution_count": null,
      "outputs": [
        {
          "output_type": "stream",
          "name": "stdout",
          "text": [
            "loading specpolFlow package\n",
            "importing specpolFlow.iolsd\n"
          ]
        }
      ]
    },
    {
      "cell_type": "code",
      "source": [
        "from google.colab import drive\n",
        "drive.mount('/content/drive')"
      ],
      "metadata": {
        "colab": {
          "base_uri": "https://localhost:8080/"
        },
        "id": "FzwLzvUwLuxi",
        "outputId": "18e01a74-d791-4401-8fcd-305bb3d65b03"
      },
      "execution_count": null,
      "outputs": [
        {
          "output_type": "stream",
          "name": "stdout",
          "text": [
            "Mounted at /content/drive\n"
          ]
        }
      ]
    },
    {
      "cell_type": "code",
      "source": [
        "cd /content/drive/Shareddrives/BeStarsMiMeS/"
      ],
      "metadata": {
        "colab": {
          "base_uri": "https://localhost:8080/"
        },
        "id": "yeW2te_eMLGb",
        "outputId": "de0c0efc-9cb2-4495-c963-4c786644f4c1"
      },
      "execution_count": null,
      "outputs": [
        {
          "output_type": "stream",
          "name": "stdout",
          "text": [
            "/content/drive/Shareddrives/BeStarsMiMeS\n"
          ]
        }
      ]
    },
    {
      "cell_type": "markdown",
      "source": [
        "## 1. Creating LSD line masks"
      ],
      "metadata": {
        "id": "t1w1r6zAK4Hb"
      }
    },
    {
      "cell_type": "markdown",
      "source": [
        "### 1.1 Demo with a single model"
      ],
      "metadata": {
        "id": "Tozzo3VyK-AH"
      }
    },
    {
      "cell_type": "code",
      "source": [
        "ModelCode = 'T15000G40'\n",
        "# careful -- check whether it is g or G in the spreadsheet..."
      ],
      "metadata": {
        "id": "pyIJS0a_K1rL"
      },
      "execution_count": null,
      "outputs": []
    },
    {
      "cell_type": "code",
      "source": [
        "# We use a VALD long format line list to generate a LSD mask file. \n",
        "\n",
        "filename = 'VALD-LongList/LongList_{}.dat'.format(ModelCode)\n",
        "output = 'Masks/Test/{}_depth0.1.mask'.format(ModelCode)\n",
        "\n",
        "# atomsOnly=True excludes H lines. \n",
        "# saves the mask in the outpu file specified\n",
        "mask = pol.makeMask.make_mask(filename, output, depthCutoff=0.1, atomsOnly=True)\n"
      ],
      "metadata": {
        "colab": {
          "base_uri": "https://localhost:8080/"
        },
        "id": "f4ihCAKnLLb-",
        "outputId": "36a8302a-7235-4996-b81b-08d50c01ee7c"
      },
      "execution_count": null,
      "outputs": [
        {
          "output_type": "stream",
          "name": "stdout",
          "text": [
            "skipped all lines for species:\n",
            "['H 1']\n"
          ]
        }
      ]
    },
    {
      "cell_type": "markdown",
      "source": [
        "### 1.2 Loop over all models\n",
        "\n",
        "**TODO**: In the 00-information Google spreadsheet, there is a sheet called \"List of models\". Write a cell of code that will:\n",
        "1. Get Panda to retrieve that information\n",
        "2. Make a look over all the model codes in that spreadsheet and use the make_mask function. "
      ],
      "metadata": {
        "id": "tTKjdFSSezgJ"
      }
    },
    {
      "cell_type": "code",
      "source": [
        ""
      ],
      "metadata": {
        "id": "cpG6j-ePb1Nc"
      },
      "execution_count": null,
      "outputs": []
    }
  ]
}